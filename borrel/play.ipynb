{
 "cells": [
  {
   "cell_type": "markdown",
   "id": "1ff532fe",
   "metadata": {},
   "source": [
    "Just run all cells :)"
   ]
  },
  {
   "cell_type": "markdown",
   "id": "0292f01e",
   "metadata": {},
   "source": [
    "Players"
   ]
  },
  {
   "cell_type": "code",
   "execution_count": 1,
   "id": "f0e3a134",
   "metadata": {},
   "outputs": [],
   "source": [
    "from policies.dummy import Dummy\n",
    "from policies.do import Do\n",
    "from policies.ivo import Ivo\n",
    "from policies.carlos import Carlos\n",
    "from policies.jakko import Jakko\n",
    "from policies.mark0 import Mark0\n",
    "from policies.mark1 import Mark1\n",
    "\n",
    "from games.minority import Minority\n",
    "from games.tron import Tron\n",
    "from games.battleship import Battleship\n",
    "from games.wonky_rps import WonkyRPS\n",
    "\n",
    "from itertools import combinations\n",
    "\n",
    "def get_all_player_classes():\n",
    "    \"\"\"\n",
    "    Here we define all the players that are available to be used in the tournament.\n",
    "    \"\"\"\n",
    "    return [\n",
    "        Do,\n",
    "        Ivo,\n",
    "        Carlos,\n",
    "        Mark1,\n",
    "    ]\n",
    "\n",
    "def init_all_players():\n",
    "    return [\n",
    "        player() for player in get_all_player_classes()\n",
    "    ]\n",
    "\n",
    "def get_zero_scores(players):\n",
    "    return {\n",
    "        player.name: 0\n",
    "        for player in players\n",
    "    }\n",
    "\n",
    "global_scores = get_zero_scores(init_all_players())\n",
    "\n",
    "def print_ordered_scores(scores: dict[str, int]):\n",
    "    \"\"\"\n",
    "    Ranks the scores dict by score\n",
    "    \"\"\"\n",
    "    ordered_scores = sorted(scores.items(), key=lambda item: item[1], reverse=True)\n",
    "    print(\"Scores: \" + \", \".join([f\"{name}: {score}\" for name, score in ordered_scores]))\n",
    "\n",
    "def print_global_scores():\n",
    "    ordered_scores = sorted(global_scores.items(), key=lambda item: item[1], reverse=True)\n",
    "    print(\"Global scores:\")\n",
    "    for name, score in ordered_scores:\n",
    "        print(f\"{name}: {score}\")\n",
    "\n",
    "def update_global_scores(scores: dict[str, int]):\n",
    "    \"\"\"\n",
    "    Ranks the scores dict by score\n",
    "    \"\"\"\n",
    "    sorted_scores = sorted(scores.items(), key=lambda item: item[1], reverse=True)\n",
    "    last_score = None\n",
    "    current_points = len(init_all_players()) - 1\n",
    "    for name, score in sorted_scores:\n",
    "        if last_score is not None and last_score != score:\n",
    "            current_points -= 1\n",
    "        global_scores[name] += current_points\n",
    "\n",
    "        last_score = score\n",
    "    \n",
    "    print_global_scores()"
   ]
  },
  {
   "cell_type": "markdown",
   "id": "71888253",
   "metadata": {},
   "source": [
    "## Minority"
   ]
  },
  {
   "cell_type": "code",
   "execution_count": 2,
   "id": "ed4d59bd",
   "metadata": {},
   "outputs": [
    {
     "ename": "IndexError",
     "evalue": "single positional indexer is out-of-bounds",
     "output_type": "error",
     "traceback": [
      "\u001b[31m---------------------------------------------------------------------------\u001b[39m",
      "\u001b[31mIndexError\u001b[39m                                Traceback (most recent call last)",
      "\u001b[36mCell\u001b[39m\u001b[36m \u001b[39m\u001b[32mIn[2]\u001b[39m\u001b[32m, line 8\u001b[39m\n\u001b[32m      4\u001b[39m players = init_all_players()\n\u001b[32m      6\u001b[39m minority = Minority(players, render=\u001b[38;5;28;01mFalse\u001b[39;00m)\n\u001b[32m----> \u001b[39m\u001b[32m8\u001b[39m winners = \u001b[43mminority\u001b[49m\u001b[43m.\u001b[49m\u001b[43mplay_game\u001b[49m\u001b[43m(\u001b[49m\u001b[43m)\u001b[49m\n\u001b[32m     10\u001b[39m \u001b[38;5;28;01mfor\u001b[39;00m winner \u001b[38;5;129;01min\u001b[39;00m winners:\n\u001b[32m     11\u001b[39m     scores[winner] += \u001b[32m1\u001b[39m\n",
      "\u001b[36mFile \u001b[39m\u001b[32m~/git/Games_Borrel/borrel/games/minority.py:64\u001b[39m, in \u001b[36mMinority.play_game\u001b[39m\u001b[34m(self, rounds)\u001b[39m\n\u001b[32m     61\u001b[39m \u001b[38;5;28mself\u001b[39m.reset()\n\u001b[32m     63\u001b[39m \u001b[38;5;28;01mfor\u001b[39;00m i \u001b[38;5;129;01min\u001b[39;00m \u001b[38;5;28mrange\u001b[39m(rounds):\n\u001b[32m---> \u001b[39m\u001b[32m64\u001b[39m     \u001b[38;5;28;43mself\u001b[39;49m\u001b[43m.\u001b[49m\u001b[43mplay_round\u001b[49m\u001b[43m(\u001b[49m\u001b[43mrounds\u001b[49m\u001b[43m \u001b[49m\u001b[43m-\u001b[49m\u001b[43m \u001b[49m\u001b[43mi\u001b[49m\u001b[43m \u001b[49m\u001b[43m-\u001b[49m\u001b[43m \u001b[49m\u001b[32;43m1\u001b[39;49m\u001b[43m)\u001b[49m\n\u001b[32m     66\u001b[39m \u001b[38;5;28;01mreturn\u001b[39;00m \u001b[38;5;28mself\u001b[39m.get_winner()\n",
      "\u001b[36mFile \u001b[39m\u001b[32m~/git/Games_Borrel/borrel/games/minority.py:22\u001b[39m, in \u001b[36mMinority.play_round\u001b[39m\u001b[34m(self, rounds_remaining)\u001b[39m\n\u001b[32m     20\u001b[39m \u001b[38;5;28mround\u001b[39m = {}\n\u001b[32m     21\u001b[39m \u001b[38;5;28;01mfor\u001b[39;00m player \u001b[38;5;129;01min\u001b[39;00m \u001b[38;5;28mself\u001b[39m.players:\n\u001b[32m---> \u001b[39m\u001b[32m22\u001b[39m     choice = \u001b[43mplayer\u001b[49m\u001b[43m.\u001b[49m\u001b[43mminority\u001b[49m\u001b[43m(\u001b[49m\u001b[43mcopy\u001b[49m\u001b[43m.\u001b[49m\u001b[43mdeepcopy\u001b[49m\u001b[43m(\u001b[49m\u001b[38;5;28;43mself\u001b[39;49m\u001b[43m.\u001b[49m\u001b[43mhistory\u001b[49m\u001b[43m)\u001b[49m\u001b[43m)\u001b[49m\n\u001b[32m     23\u001b[39m     \u001b[38;5;28mround\u001b[39m[player.name] = choice\n\u001b[32m     24\u001b[39m \u001b[38;5;28mround\u001b[39m[\u001b[33m\"\u001b[39m\u001b[33mrounds_remaining\u001b[39m\u001b[33m\"\u001b[39m] = rounds_remaining\n",
      "\u001b[36mFile \u001b[39m\u001b[32m~/git/Games_Borrel/borrel/policies/ivo.py:49\u001b[39m, in \u001b[36mIvo.minority\u001b[39m\u001b[34m(self, history)\u001b[39m\n\u001b[32m     47\u001b[39m strategy = \u001b[33m\"\u001b[39m\u001b[33mwin-stay-lose-shift\u001b[39m\u001b[33m\"\u001b[39m  \u001b[38;5;66;03m# or \"random\", or \"win-shift-lose-stay\"\u001b[39;00m\n\u001b[32m     48\u001b[39m \u001b[38;5;28;01mif\u001b[39;00m strategy == \u001b[33m\"\u001b[39m\u001b[33mwin-stay-lose-shift\u001b[39m\u001b[33m\"\u001b[39m:\n\u001b[32m---> \u001b[39m\u001b[32m49\u001b[39m     my_choice = \u001b[43mhistory\u001b[49m\u001b[43m[\u001b[49m\u001b[38;5;28;43mself\u001b[39;49m\u001b[43m.\u001b[49m\u001b[43mname\u001b[49m\u001b[43m]\u001b[49m\u001b[43m.\u001b[49m\u001b[43miloc\u001b[49m\u001b[43m[\u001b[49m\u001b[43m-\u001b[49m\u001b[32;43m1\u001b[39;49m\u001b[43m]\u001b[49m\n\u001b[32m     50\u001b[39m     \u001b[38;5;28;01mif\u001b[39;00m \u001b[38;5;28mself\u001b[39m.detect_minority_win(history):\n\u001b[32m     51\u001b[39m         \u001b[38;5;66;03m# if I won, I will stay with my choice\u001b[39;00m\n\u001b[32m     52\u001b[39m         \u001b[38;5;28;01mreturn\u001b[39;00m my_choice\n",
      "\u001b[36mFile \u001b[39m\u001b[32m~/.cache/pypoetry/virtualenvs/borrel-m64kQQH--py3.11/lib/python3.11/site-packages/pandas/core/indexing.py:1191\u001b[39m, in \u001b[36m_LocationIndexer.__getitem__\u001b[39m\u001b[34m(self, key)\u001b[39m\n\u001b[32m   1189\u001b[39m maybe_callable = com.apply_if_callable(key, \u001b[38;5;28mself\u001b[39m.obj)\n\u001b[32m   1190\u001b[39m maybe_callable = \u001b[38;5;28mself\u001b[39m._check_deprecated_callable_usage(key, maybe_callable)\n\u001b[32m-> \u001b[39m\u001b[32m1191\u001b[39m \u001b[38;5;28;01mreturn\u001b[39;00m \u001b[38;5;28;43mself\u001b[39;49m\u001b[43m.\u001b[49m\u001b[43m_getitem_axis\u001b[49m\u001b[43m(\u001b[49m\u001b[43mmaybe_callable\u001b[49m\u001b[43m,\u001b[49m\u001b[43m \u001b[49m\u001b[43maxis\u001b[49m\u001b[43m=\u001b[49m\u001b[43maxis\u001b[49m\u001b[43m)\u001b[49m\n",
      "\u001b[36mFile \u001b[39m\u001b[32m~/.cache/pypoetry/virtualenvs/borrel-m64kQQH--py3.11/lib/python3.11/site-packages/pandas/core/indexing.py:1752\u001b[39m, in \u001b[36m_iLocIndexer._getitem_axis\u001b[39m\u001b[34m(self, key, axis)\u001b[39m\n\u001b[32m   1749\u001b[39m     \u001b[38;5;28;01mraise\u001b[39;00m \u001b[38;5;167;01mTypeError\u001b[39;00m(\u001b[33m\"\u001b[39m\u001b[33mCannot index by location index with a non-integer key\u001b[39m\u001b[33m\"\u001b[39m)\n\u001b[32m   1751\u001b[39m \u001b[38;5;66;03m# validate the location\u001b[39;00m\n\u001b[32m-> \u001b[39m\u001b[32m1752\u001b[39m \u001b[38;5;28;43mself\u001b[39;49m\u001b[43m.\u001b[49m\u001b[43m_validate_integer\u001b[49m\u001b[43m(\u001b[49m\u001b[43mkey\u001b[49m\u001b[43m,\u001b[49m\u001b[43m \u001b[49m\u001b[43maxis\u001b[49m\u001b[43m)\u001b[49m\n\u001b[32m   1754\u001b[39m \u001b[38;5;28;01mreturn\u001b[39;00m \u001b[38;5;28mself\u001b[39m.obj._ixs(key, axis=axis)\n",
      "\u001b[36mFile \u001b[39m\u001b[32m~/.cache/pypoetry/virtualenvs/borrel-m64kQQH--py3.11/lib/python3.11/site-packages/pandas/core/indexing.py:1685\u001b[39m, in \u001b[36m_iLocIndexer._validate_integer\u001b[39m\u001b[34m(self, key, axis)\u001b[39m\n\u001b[32m   1683\u001b[39m len_axis = \u001b[38;5;28mlen\u001b[39m(\u001b[38;5;28mself\u001b[39m.obj._get_axis(axis))\n\u001b[32m   1684\u001b[39m \u001b[38;5;28;01mif\u001b[39;00m key >= len_axis \u001b[38;5;129;01mor\u001b[39;00m key < -len_axis:\n\u001b[32m-> \u001b[39m\u001b[32m1685\u001b[39m     \u001b[38;5;28;01mraise\u001b[39;00m \u001b[38;5;167;01mIndexError\u001b[39;00m(\u001b[33m\"\u001b[39m\u001b[33msingle positional indexer is out-of-bounds\u001b[39m\u001b[33m\"\u001b[39m)\n",
      "\u001b[31mIndexError\u001b[39m: single positional indexer is out-of-bounds"
     ]
    }
   ],
   "source": [
    "scores = get_zero_scores(init_all_players())\n",
    "\n",
    "for i in range(21):\n",
    "    players = init_all_players()\n",
    "\n",
    "    minority = Minority(players, render=False)\n",
    "\n",
    "    winners = minority.play_game()\n",
    "\n",
    "    for winner in winners:\n",
    "        scores[winner] += 1\n",
    "\n",
    "    print(minority.get_scores(), f\"winner: {winners}\")\n",
    "\n",
    "print_ordered_scores(scores)\n",
    "\n",
    "update_global_scores(scores)"
   ]
  },
  {
   "cell_type": "markdown",
   "id": "c8a2c45a",
   "metadata": {},
   "source": [
    "## Tron"
   ]
  },
  {
   "cell_type": "code",
   "execution_count": null,
   "id": "d8e6dba6",
   "metadata": {},
   "outputs": [
    {
     "name": "stdout",
     "output_type": "stream",
     "text": [
      "Scores: carlos: 249, mark1: 241, do: 47, ivo: 40\n",
      "Global scores:\n",
      "carlos: 6\n",
      "mark1: 5\n",
      "do: 3\n",
      "ivo: 1\n"
     ]
    }
   ],
   "source": [
    "scores = get_zero_scores(init_all_players())\n",
    "\n",
    "player_classes = get_all_player_classes()\n",
    "\n",
    "for player1_class, player2_class in combinations(player_classes, 2):\n",
    "    for i in range(11):\n",
    "        player1 = player1_class()\n",
    "        player2 = player2_class()\n",
    "\n",
    "        tron = Tron([player1, player2], render=False)\n",
    "        winner = tron.play_game()\n",
    "        if winner == \"tie\":\n",
    "            continue\n",
    "\n",
    "        scores[winner] += 1\n",
    "\n",
    "print_ordered_scores(scores)\n",
    "\n",
    "update_global_scores(scores)"
   ]
  },
  {
   "cell_type": "markdown",
   "id": "e58b0249",
   "metadata": {},
   "source": [
    "## Battleship"
   ]
  },
  {
   "cell_type": "code",
   "execution_count": null,
   "id": "7f7a21aa",
   "metadata": {},
   "outputs": [],
   "source": [
    "scores = get_zero_scores(init_all_players())\n",
    "\n",
    "player_classes = get_all_player_classes()\n",
    "\n",
    "for player1_class, player2_class in combinations(player_classes, 2):\n",
    "    for i in range(11):\n",
    "        player1 = player1_class()\n",
    "        player2 = player2_class()\n",
    "        \n",
    "        battleship = Battleship(player1=player1, player2=player2, render=False)\n",
    "        winner = battleship.play_game()\n",
    "\n",
    "        print(f\"Players: {player1.name} vs {player2.name}, Winner: {winner}\")\n",
    "\n",
    "        if winner == \"tie\":\n",
    "            continue\n",
    "        scores[winner] += 1\n",
    "\n",
    "print_ordered_scores(scores)\n",
    "\n",
    "update_global_scores(scores)"
   ]
  },
  {
   "cell_type": "markdown",
   "id": "a664fafa",
   "metadata": {},
   "source": [
    "## Wonky RPS"
   ]
  },
  {
   "cell_type": "code",
   "execution_count": null,
   "id": "2039a05e",
   "metadata": {},
   "outputs": [],
   "source": [
    "scores = get_zero_scores(init_all_players())\n",
    "\n",
    "player_classes = get_all_player_classes()\n",
    "\n",
    "for player1_class, player2_class in combinations(player_classes, 2):\n",
    "    for i in range(7):\n",
    "        player1 = player1_class()\n",
    "        player2 = player2_class()\n",
    "\n",
    "        wonky_rps = WonkyRPS(player1, player2, render=False)\n",
    "        winner = wonky_rps.play_game()\n",
    "\n",
    "        print(wonky_rps.scores, f\", Winner: {winner}\")\n",
    "\n",
    "        if winner == \"tie\":\n",
    "            continue\n",
    "    \n",
    "        scores[winner] += 1\n",
    "\n",
    "print_ordered_scores(scores)\n",
    "\n",
    "update_global_scores(scores)"
   ]
  },
  {
   "cell_type": "code",
   "execution_count": null,
   "id": "b440a537",
   "metadata": {},
   "outputs": [],
   "source": [
    "print_global_scores()"
   ]
  }
 ],
 "metadata": {
  "kernelspec": {
   "display_name": "borrel-m64kQQH--py3.11",
   "language": "python",
   "name": "python3"
  },
  "language_info": {
   "codemirror_mode": {
    "name": "ipython",
    "version": 3
   },
   "file_extension": ".py",
   "mimetype": "text/x-python",
   "name": "python",
   "nbconvert_exporter": "python",
   "pygments_lexer": "ipython3",
   "version": "3.11.5"
  }
 },
 "nbformat": 4,
 "nbformat_minor": 5
}
