{
 "cells": [
  {
   "cell_type": "markdown",
   "id": "1ff532fe",
   "metadata": {},
   "source": [
    "Just run all cells :)"
   ]
  },
  {
   "cell_type": "markdown",
   "id": "0292f01e",
   "metadata": {},
   "source": [
    "Players"
   ]
  },
  {
   "cell_type": "code",
   "execution_count": null,
   "id": "f0e3a134",
   "metadata": {},
   "outputs": [],
   "source": [
    "from policies.dummy import Dummy\n",
    "from policies.do import Do\n",
    "from policies.ivo import Ivo\n",
    "from policies.carlos import Carlos\n",
    "from policies.jakko import Jakko\n",
    "from policies.mark0 import Mark0\n",
    "from policies.mark1 import Mark1\n",
    "\n",
    "from games.minority import Minority\n",
    "from games.tron import Tron\n",
    "from games.battleship import Battleship\n",
    "from games.wonky_rps import WonkyRPS\n",
    "\n",
    "from itertools import pairwise\n",
    "\n",
    "def get_all_player_classes():\n",
    "    \"\"\"\n",
    "    Here we define all the players that are available to be used in the tournament.\n",
    "    \"\"\"\n",
    "    return [\n",
    "        Do,\n",
    "        Ivo,\n",
    "        Carlos,\n",
    "        Jakko,\n",
    "        Mark0,\n",
    "        Mark1,\n",
    "    ]\n",
    "\n",
    "def init_all_players():\n",
    "    return [\n",
    "        player() for player in get_all_player_classes()\n",
    "    ]\n",
    "\n",
    "def get_zero_scores(players):\n",
    "    return {\n",
    "        player.name: 0\n",
    "        for player in players\n",
    "    }\n",
    "\n",
    "def print_ordered_scores(scores: dict[str, int]):\n",
    "    \"\"\"\n",
    "    Ranks the scores dict by score\n",
    "    \"\"\"\n",
    "    ordered_scores = sorted(scores.items(), key=lambda item: item[1], reverse=True)\n",
    "    print(\"Scores: \" + \", \".join([f\"{name}: {score}\" for name, score in ordered_scores]))\n",
    "\n",
    "global_scores = get_zero_scores(init_all_players())\n",
    "\n",
    "def print_global_scores():\n",
    "    ordered_scores = sorted(global_scores.items(), key=lambda item: item[1], reverse=True)\n",
    "    print(\"Global scores:\")\n",
    "    for name, score in ordered_scores:\n",
    "        print(f\"{name}: {score}\")\n",
    "\n",
    "def update_global_scores(scores: dict[str, int]):\n",
    "    \"\"\"\n",
    "    Ranks the scores dict by score\n",
    "    \"\"\"\n",
    "    sorted_scores = sorted(scores.items(), key=lambda item: item[1], reverse=True)\n",
    "    last_score = None\n",
    "    current_points = len(init_all_players()) - 1\n",
    "    for name, score in sorted_scores:\n",
    "        if last_score is not None and last_score != score:\n",
    "            current_points -= 1\n",
    "        global_scores[name] += current_points\n",
    "\n",
    "        last_score = score\n",
    "    \n",
    "    print_global_scores()"
   ]
  },
  {
   "cell_type": "markdown",
   "id": "71888253",
   "metadata": {},
   "source": [
    "## Minority"
   ]
  },
  {
   "cell_type": "code",
   "execution_count": null,
   "id": "ed4d59bd",
   "metadata": {},
   "outputs": [],
   "source": [
    "scores = get_zero_scores(init_all_players())\n",
    "\n",
    "for i in range(21):\n",
    "    players = init_all_players()\n",
    "\n",
    "    minority = Minority(players, render=False)\n",
    "\n",
    "    winners = minority.play_game()\n",
    "\n",
    "    for winner in winners:\n",
    "        scores[winner] += 1\n",
    "\n",
    "    print(minority.get_scores(), f\"winner: {winners}\")\n",
    "\n",
    "print_ordered_scores(scores)\n",
    "\n",
    "update_global_scores(scores)"
   ]
  },
  {
   "cell_type": "markdown",
   "id": "c8a2c45a",
   "metadata": {},
   "source": [
    "## Tron"
   ]
  },
  {
   "cell_type": "code",
   "execution_count": null,
   "id": "d8e6dba6",
   "metadata": {},
   "outputs": [],
   "source": [
    "scores = get_zero_scores(init_all_players())\n",
    "\n",
    "player_classes = get_all_player_classes()\n",
    "\n",
    "for player1_class, player2_class in pairwise(player_classes):\n",
    "    for i in range(11):\n",
    "        player1 = player1_class()\n",
    "        player2 = player2_class()\n",
    "\n",
    "        tron = Tron([player1, player2], render=False)\n",
    "        winner = tron.play_game()\n",
    "        if winner == \"tie\":\n",
    "            continue\n",
    "\n",
    "        scores[winner] += 1\n",
    "\n",
    "print_ordered_scores(scores)\n",
    "\n",
    "update_global_scores(scores)"
   ]
  },
  {
   "cell_type": "markdown",
   "id": "e58b0249",
   "metadata": {},
   "source": [
    "## Battleship"
   ]
  },
  {
   "cell_type": "code",
   "execution_count": null,
   "id": "7f7a21aa",
   "metadata": {},
   "outputs": [],
   "source": [
    "scores = get_zero_scores(init_all_players())\n",
    "\n",
    "player_classes = get_all_player_classes()\n",
    "\n",
    "for player1_class, player2_class in pairwise(player_classes):\n",
    "    for i in range(11):\n",
    "        player1 = player1_class()\n",
    "        player2 = player2_class()\n",
    "        \n",
    "        battleship = Battleship(player1=player1, player2=player2, render=False)\n",
    "        winner = battleship.play_game()\n",
    "\n",
    "        print(f\"Players: {player1.name} vs {player2.name}, Winner: {winner}\")\n",
    "\n",
    "        if winner == \"tie\":\n",
    "            continue\n",
    "        scores[winner] += 1\n",
    "\n",
    "print_ordered_scores(scores)\n",
    "\n",
    "update_global_scores(scores)"
   ]
  },
  {
   "cell_type": "markdown",
   "id": "a664fafa",
   "metadata": {},
   "source": [
    "## Wonky RPS"
   ]
  },
  {
   "cell_type": "code",
   "execution_count": null,
   "id": "2039a05e",
   "metadata": {},
   "outputs": [],
   "source": [
    "scores = get_zero_scores(init_all_players())\n",
    "\n",
    "player_classes = get_all_player_classes()\n",
    "\n",
    "for player1_class, player2_class in pairwise(player_classes):\n",
    "    for i in range(7):\n",
    "        player1 = player1_class()\n",
    "        player2 = player2_class()\n",
    "\n",
    "        wonky_rps = WonkyRPS(player1, player2, render=False)\n",
    "        winner = wonky_rps.play_game()\n",
    "\n",
    "        print(wonky_rps.scores, f\", Winner: {winner}\")\n",
    "\n",
    "        if winner == \"tie\":\n",
    "            continue\n",
    "    \n",
    "        scores[winner] += 1\n",
    "\n",
    "print_ordered_scores(scores)\n",
    "\n",
    "update_global_scores(scores)"
   ]
  },
  {
   "cell_type": "code",
   "execution_count": null,
   "id": "b440a537",
   "metadata": {},
   "outputs": [],
   "source": [
    "print_global_scores()"
   ]
  }
 ],
 "metadata": {
  "kernelspec": {
   "display_name": "borrel-m64kQQH--py3.11",
   "language": "python",
   "name": "python3"
  },
  "language_info": {
   "codemirror_mode": {
    "name": "ipython",
    "version": 3
   },
   "file_extension": ".py",
   "mimetype": "text/x-python",
   "name": "python",
   "nbconvert_exporter": "python",
   "pygments_lexer": "ipython3",
   "version": "3.11.5"
  }
 },
 "nbformat": 4,
 "nbformat_minor": 5
}
