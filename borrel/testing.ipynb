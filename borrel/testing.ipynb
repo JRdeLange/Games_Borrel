{
 "cells": [
  {
   "cell_type": "markdown",
   "id": "1ff532fe",
   "metadata": {},
   "source": [
    "Here you can test your stuff.\n",
    "\n",
    "For each of the games I have preset:\n",
    "- A single game with rendering/printing enabled so you can see what's going on\n",
    "- A competition length game against the dummy player to benchmark your performance\n",
    "\n",
    "After the first scoring round you can (and probably should!) test your policies against the other players! "
   ]
  },
  {
   "cell_type": "markdown",
   "id": "0292f01e",
   "metadata": {},
   "source": [
    "Players"
   ]
  },
  {
   "cell_type": "code",
   "execution_count": null,
   "id": "f0e3a134",
   "metadata": {},
   "outputs": [],
   "source": [
    "from policies.dummy import Dummy\n",
    "from policies.do import Do\n",
    "from policies.ivo import Ivo\n",
    "from policies.carlos import Carlos\n",
    "from policies.jakko import Jakko\n",
    "from policies.mark0 import Mark0\n",
    "from policies.mark1 import Mark1\n",
    "\n",
    "from games.minority import Minority\n",
    "from games.tron import Tron\n",
    "from games.battleship import Battleship\n",
    "from games.wonky_rps import WonkyRPS\n",
    "\n",
    "you_class = Do # Change this to your class :)"
   ]
  },
  {
   "cell_type": "markdown",
   "id": "71888253",
   "metadata": {},
   "source": [
    "## Minority"
   ]
  },
  {
   "cell_type": "markdown",
   "id": "5cf995c4",
   "metadata": {},
   "source": [
    "Single game\n"
   ]
  },
  {
   "cell_type": "code",
   "execution_count": null,
   "id": "91880544",
   "metadata": {},
   "outputs": [],
   "source": [
    "# Init players\n",
    "you = you_class()\n",
    "opponent1 = Dummy(name=\"dummy1\")\n",
    "opponent2 = Dummy(name=\"dummy2\")\n",
    "opponent3 = Dummy(name=\"dummy3\")\n",
    "\n",
    "players = [you, opponent1, opponent2, opponent3]\n",
    "\n",
    "minority = Minority(players, render=True)\n",
    "\n",
    "winner = minority.play_game(rounds = 5)\n",
    "\n",
    "print(f\"Winner: {winner}\")\n",
    "print(f\"Scores: {minority.get_scores()}\")\n",
    "print(\"History:\")\n",
    "minority.history"
   ]
  },
  {
   "cell_type": "markdown",
   "id": "4b7dd7b4",
   "metadata": {},
   "source": [
    "Benchmark"
   ]
  },
  {
   "cell_type": "code",
   "execution_count": null,
   "id": "ed4d59bd",
   "metadata": {},
   "outputs": [],
   "source": [
    "you = you_class()\n",
    "opponent1 = Dummy(name=\"dummy1\")\n",
    "opponent2 = Dummy(name=\"dummy2\")\n",
    "opponent3 = Dummy(name=\"dummy3\")\n",
    "\n",
    "scores = {you.name: 0, opponent1.name: 0, opponent2.name: 0, opponent3.name: 0}\n",
    "\n",
    "for i in range(21):\n",
    "    you = you_class()\n",
    "    opponent1 = Dummy(name=\"dummy1\")\n",
    "    opponent2 = Dummy(name=\"dummy2\")\n",
    "    opponent3 = Dummy(name=\"dummy3\")\n",
    "    players = [you, opponent1, opponent2, opponent3]\n",
    "\n",
    "    minority = Minority(players, render=False)\n",
    "\n",
    "    winners = minority.play_game()\n",
    "\n",
    "    for winner in winners:\n",
    "        scores[winner] += 1\n",
    "\n",
    "    print(minority.get_scores(), f\"winner: {winners}\")\n",
    "\n",
    "print(f\"Scores: {scores}\")"
   ]
  },
  {
   "cell_type": "markdown",
   "id": "c8a2c45a",
   "metadata": {},
   "source": [
    "## Tron"
   ]
  },
  {
   "cell_type": "markdown",
   "id": "a0fcf944",
   "metadata": {},
   "source": [
    "Single game"
   ]
  },
  {
   "cell_type": "code",
   "execution_count": null,
   "id": "8c4d857b",
   "metadata": {},
   "outputs": [],
   "source": [
    "# Note - you start as the left player (\"-\"). Switch the order of players to play as the right player (\"|\").\n",
    "\n",
    "you = you_class()\n",
    "opponent = Dummy()\n",
    "\n",
    "tron = Tron([you, opponent], render=True)\n",
    "winner = tron.play_game()\n",
    "\n",
    "print(f\"Winner: {winner}\")\n",
    "print(\"Final grid:\")\n",
    "tron.renderer.render()"
   ]
  },
  {
   "cell_type": "markdown",
   "id": "426ef7f9",
   "metadata": {},
   "source": [
    "Benchmark"
   ]
  },
  {
   "cell_type": "code",
   "execution_count": null,
   "id": "d8e6dba6",
   "metadata": {},
   "outputs": [],
   "source": [
    "you = you_class()\n",
    "opponent = Dummy()\n",
    "score = {you.name: 0, opponent.name: 0}\n",
    "\n",
    "for i in range(11):\n",
    "    you = you_class()\n",
    "    opponent = Dummy()\n",
    "\n",
    "    tron = Tron([you, opponent], render=False)\n",
    "    winner = tron.play_game()\n",
    "    if winner == \"tie\":\n",
    "        continue\n",
    "    score[winner] += 1\n",
    "\n",
    "print(f\"Scores: {score}\")"
   ]
  },
  {
   "cell_type": "markdown",
   "id": "e58b0249",
   "metadata": {},
   "source": [
    "## Battleship"
   ]
  },
  {
   "cell_type": "markdown",
   "id": "bfd98112",
   "metadata": {},
   "source": [
    "Single game"
   ]
  },
  {
   "cell_type": "code",
   "execution_count": null,
   "id": "04816f0b",
   "metadata": {},
   "outputs": [],
   "source": [
    "you = you_class()\n",
    "opponent = Dummy()\n",
    "\n",
    "battleship = Battleship(player1=you, player2=opponent, render=True)\n",
    "winner = battleship.play_game()\n",
    "\n",
    "print(f\"Winner: {winner}\")\n",
    "print(\"Your fleet:\")\n",
    "battleship.player1.grid.print_grid()\n",
    "print(\"Opponent's fleet:\")\n",
    "battleship.player2.grid.print_grid()"
   ]
  },
  {
   "cell_type": "markdown",
   "id": "b6df8a90",
   "metadata": {},
   "source": [
    "Benchmark"
   ]
  },
  {
   "cell_type": "code",
   "execution_count": null,
   "id": "7f7a21aa",
   "metadata": {},
   "outputs": [],
   "source": [
    "you = you_class()\n",
    "opponent = Dummy()\n",
    "scores = {you.name: 0, opponent.name: 0}\n",
    "\n",
    "for i in range(11):\n",
    "    you = you_class()\n",
    "    opponent = Dummy()\n",
    "    \n",
    "    battleship = Battleship(player1=you, player2=opponent, render=False)\n",
    "    winner = battleship.play_game()\n",
    "    if winner == \"tie\":\n",
    "        continue\n",
    "    scores[winner] += 1\n",
    "\n",
    "print(f\"Scores: {scores}\")"
   ]
  },
  {
   "cell_type": "markdown",
   "id": "a664fafa",
   "metadata": {},
   "source": [
    "## Wonky RPS"
   ]
  },
  {
   "cell_type": "markdown",
   "id": "8f3dc3f6",
   "metadata": {},
   "source": [
    "Single game"
   ]
  },
  {
   "cell_type": "code",
   "execution_count": null,
   "id": "4d9008c5",
   "metadata": {},
   "outputs": [],
   "source": [
    "you = you_class()\n",
    "opponent = Dummy()\n",
    "\n",
    "wonky_rps = WonkyRPS(you, opponent, render=True)\n",
    "\n",
    "winner = wonky_rps.play_game(rounds=5)\n",
    "print(f\"Final scores: {wonky_rps.scores}\")\n",
    "wonky_rps.history"
   ]
  },
  {
   "cell_type": "markdown",
   "id": "7b01473b",
   "metadata": {},
   "source": [
    "Benchmark"
   ]
  },
  {
   "cell_type": "code",
   "execution_count": null,
   "id": "2039a05e",
   "metadata": {},
   "outputs": [],
   "source": [
    "you = you_class()\n",
    "opponent = Dummy()\n",
    "\n",
    "scores = {you.name: 0, opponent.name: 0}\n",
    "\n",
    "for i in range(7):\n",
    "    you = you_class()\n",
    "    opponent = Dummy()\n",
    "\n",
    "    wonky_rps = WonkyRPS(you, opponent, render=False)\n",
    "    winner = wonky_rps.play_game()\n",
    "    if winner == \"tie\":\n",
    "        continue\n",
    "    scores[winner] += 1\n",
    "    print(wonky_rps.scores, f\"winner: {winner}\")\n",
    "\n",
    "print(f\"Scores: {scores}\")"
   ]
  }
 ],
 "metadata": {
  "kernelspec": {
   "display_name": "borrel-m64kQQH--py3.11",
   "language": "python",
   "name": "python3"
  },
  "language_info": {
   "codemirror_mode": {
    "name": "ipython",
    "version": 3
   },
   "file_extension": ".py",
   "mimetype": "text/x-python",
   "name": "python",
   "nbconvert_exporter": "python",
   "pygments_lexer": "ipython3",
   "version": "3.11.5"
  }
 },
 "nbformat": 4,
 "nbformat_minor": 5
}
